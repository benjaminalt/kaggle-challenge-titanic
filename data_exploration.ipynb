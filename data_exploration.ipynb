{
 "cells": [
  {
   "cell_type": "code",
   "execution_count": 15,
   "metadata": {},
   "outputs": [],
   "source": [
    "import pandas as pd\n",
    "import seaborn as sns\n",
    "import matplotlib.pyplot as plt\n",
    "%matplotlib inline"
   ]
  },
  {
   "cell_type": "code",
   "execution_count": 29,
   "metadata": {},
   "outputs": [],
   "source": [
    "def clean_data(train_data):\n",
    "    # Categorical to binary / one-hot\n",
    "    train_data[\"Sex\"] = (train_data[\"Sex\"] == \"male\").astype(int)\n",
    "    train_data[\"HasCabin\"] = (~train_data[\"Cabin\"].isna()).astype(int)\n",
    "    train_data = pd.concat([train_data.drop(\"Embarked\", axis=1), pd.get_dummies(train_data[\"Embarked\"], dummy_na=True, prefix=\"Embarked\")], axis=1)\n",
    "    \n",
    "    # Drop columns not used for regression\n",
    "    del train_data[\"PassengerId\"]\n",
    "    del train_data[\"Name\"]\n",
    "    del train_data[\"Ticket\"]\n",
    "    del train_data[\"Cabin\"]\n",
    "    \n",
    "    return train_data"
   ]
  },
  {
   "cell_type": "code",
   "execution_count": 30,
   "metadata": {},
   "outputs": [
    {
     "name": "stdout",
     "output_type": "stream",
     "text": [
      "   Survived  Pclass  Sex   Age  SibSp  Parch     Fare  HasCabin  Embarked_C  \\\n",
      "0         0       3    1  22.0      1      0   7.2500         0           0   \n",
      "1         1       1    0  38.0      1      0  71.2833         1           1   \n",
      "2         1       3    0  26.0      0      0   7.9250         0           0   \n",
      "3         1       1    0  35.0      1      0  53.1000         1           0   \n",
      "4         0       3    1  35.0      0      0   8.0500         0           0   \n",
      "\n",
      "   Embarked_Q  Embarked_S  Embarked_nan  \n",
      "0           0           1             0  \n",
      "1           0           0             0  \n",
      "2           0           1             0  \n",
      "3           0           1             0  \n",
      "4           0           1             0  \n",
      "Values of Parch: [0 1 2 5 3 4 6]\n",
      "Values of Pclass: [0 1 2 5 3 4 6]\n",
      "Values of SibSp: [1 0 3 4 2 5 8]\n"
     ]
    }
   ],
   "source": [
    "train_data = pd.read_csv(\"data/train.csv\")\n",
    "train_data = clean_data(train_data)\n",
    "print(train_data.head())\n",
    "print(\"Values of Parch: {}\".format(train_data[\"Parch\"].unique()))\n",
    "print(\"Values of Pclass: {}\".format(train_data[\"Parch\"].unique()))\n",
    "print(\"Values of SibSp: {}\".format(train_data[\"SibSp\"].unique()))"
   ]
  },
  {
   "cell_type": "code",
   "execution_count": 31,
   "metadata": {},
   "outputs": [
    {
     "name": "stdout",
     "output_type": "stream",
     "text": [
      "Pclass: -0.338\n",
      "Sex: -0.543\n",
      "Age: -0.077\n",
      "SibSp: -0.035\n",
      "Parch: 0.082\n",
      "Fare: 0.257\n",
      "HasCabin: 0.317\n",
      "Embarked_C: 0.168\n",
      "Embarked_Q: 0.004\n",
      "Embarked_S: -0.156\n",
      "Embarked_nan: 0.060\n"
     ]
    }
   ],
   "source": [
    "# Correlation\n",
    "for x in filter(lambda x: x != \"Survived\", train_data.columns):\n",
    "    print(\"{}: {:.3f}\".format(x, train_data[[\"Survived\", x]].corr().iloc[0,1]))"
   ]
  },
  {
   "cell_type": "markdown",
   "metadata": {},
   "source": [
    "* Pclass, age, sibsp & male sex negatively correlated with survival\n",
    "* Fare & HasCabin (presumably describe similar phenomenon) positively correlated with survival\n",
    "* Different ports of embarcation have different effects on survival (??!)\n",
    "\n",
    "* Test:\n",
    "    * How correlated are Pclass, Fare & HasCabin? (all capture socioeconomic status)\n",
    "    * What is going on with the ports of embarkation?"
   ]
  },
  {
   "cell_type": "code",
   "execution_count": null,
   "metadata": {},
   "outputs": [],
   "source": []
  }
 ],
 "metadata": {
  "kernelspec": {
   "display_name": "Python 3",
   "language": "python",
   "name": "python3"
  },
  "language_info": {
   "codemirror_mode": {
    "name": "ipython",
    "version": 3
   },
   "file_extension": ".py",
   "mimetype": "text/x-python",
   "name": "python",
   "nbconvert_exporter": "python",
   "pygments_lexer": "ipython3",
   "version": "3.6.9"
  }
 },
 "nbformat": 4,
 "nbformat_minor": 4
}
