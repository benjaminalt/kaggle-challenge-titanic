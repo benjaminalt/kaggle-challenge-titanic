{
 "cells": [
  {
   "cell_type": "code",
   "execution_count": 175,
   "metadata": {},
   "outputs": [],
   "source": [
    "import pandas as pd\n",
    "import seaborn as sns\n",
    "import matplotlib.pyplot as plt\n",
    "%matplotlib inline\n",
    "\n",
    "from data_cleaning import clean_data"
   ]
  },
  {
   "cell_type": "code",
   "execution_count": 176,
   "metadata": {
    "scrolled": true
   },
   "outputs": [
    {
     "name": "stdout",
     "output_type": "stream",
     "text": [
      "Missing values:\n",
      "PassengerId    False\n",
      "Survived       False\n",
      "Pclass         False\n",
      "Name           False\n",
      "Sex            False\n",
      "Age             True\n",
      "SibSp          False\n",
      "Parch          False\n",
      "Ticket         False\n",
      "Fare           False\n",
      "Cabin           True\n",
      "Embarked        True\n",
      "dtype: bool\n",
      "PassengerId    False\n",
      "Pclass         False\n",
      "Name           False\n",
      "Sex            False\n",
      "Age             True\n",
      "SibSp          False\n",
      "Parch          False\n",
      "Ticket         False\n",
      "Fare            True\n",
      "Cabin           True\n",
      "Embarked       False\n",
      "dtype: bool\n",
      "Pclass          False\n",
      "Sex             False\n",
      "Age             False\n",
      "SibSp           False\n",
      "Parch           False\n",
      "Fare            False\n",
      "HasCabin        False\n",
      "Embarked_C      False\n",
      "Embarked_Q      False\n",
      "Embarked_S      False\n",
      "Embarked_nan    False\n",
      "dtype: bool\n",
      "==========\n",
      "   Survived  Pclass  Sex   Age  SibSp  Parch     Fare  HasCabin  Embarked_C  \\\n",
      "0         0       3    1  22.0      1      0   7.2500         0           0   \n",
      "1         1       1    0  38.0      1      0  71.2833         1           1   \n",
      "2         1       3    0  26.0      0      0   7.9250         0           0   \n",
      "3         1       1    0  35.0      1      0  53.1000         1           0   \n",
      "4         0       3    1  35.0      0      0   8.0500         0           0   \n",
      "\n",
      "   Embarked_Q  Embarked_S  Embarked_nan  \n",
      "0           0           1             0  \n",
      "1           0           0             0  \n",
      "2           0           1             0  \n",
      "3           0           1             0  \n",
      "4           0           1             0  \n",
      "==========\n",
      "Values of Parch: [0 1 2 5 3 4 6]\n",
      "Values of Pclass: [3 1 2]\n",
      "Values of SibSp: [1 0 3 4 2 5 8]\n"
     ]
    }
   ],
   "source": [
    "train_data = pd.read_csv(\"data/train.csv\")\n",
    "test_data = pd.read_csv(\"data/test.csv\")\n",
    "\n",
    "print(\"Missing values:\")\n",
    "print(train_data.isna().any())\n",
    "print(test_data.isna().any())\n",
    "\n",
    "train_data = clean_data(train_data)\n",
    "test_data = clean_data(test_data)\n",
    "\n",
    "print(test_data.isna().any())\n",
    "\n",
    "\n",
    "print(\"=\" * 10)\n",
    "print(train_data.head())\n",
    "print(\"=\" * 10)\n",
    "print(\"Values of Parch: {}\".format(train_data[\"Parch\"].unique()))\n",
    "print(\"Values of Pclass: {}\".format(train_data[\"Pclass\"].unique()))\n",
    "print(\"Values of SibSp: {}\".format(train_data[\"SibSp\"].unique()))"
   ]
  },
  {
   "cell_type": "code",
   "execution_count": 177,
   "metadata": {},
   "outputs": [
    {
     "name": "stdout",
     "output_type": "stream",
     "text": [
      "Pclass: -0.338\n",
      "Sex: -0.543\n",
      "Age: -0.051\n",
      "SibSp: -0.035\n",
      "Parch: 0.082\n",
      "Fare: 0.257\n",
      "HasCabin: 0.317\n",
      "Embarked_C: 0.168\n",
      "Embarked_Q: 0.004\n",
      "Embarked_S: -0.156\n",
      "Embarked_nan: 0.060\n"
     ]
    }
   ],
   "source": [
    "# Correlation\n",
    "for x in filter(lambda x: x != \"Survived\", train_data.columns):\n",
    "    print(\"{}: {:.3f}\".format(x, train_data[[\"Survived\", x]].corr().iloc[0,1]))"
   ]
  },
  {
   "cell_type": "markdown",
   "metadata": {},
   "source": [
    "* Pclass, age, sibsp & male sex negatively correlated with survival\n",
    "* Fare & HasCabin (presumably describe similar phenomenon) positively correlated with survival\n",
    "* Different ports of embarcation have different effects on survival (??!)\n",
    "\n",
    "* Test:\n",
    "    * How correlated are Pclass, Fare & HasCabin? (all capture socioeconomic status)\n",
    "    * What is going on with the ports of embarkation?"
   ]
  },
  {
   "cell_type": "code",
   "execution_count": 178,
   "metadata": {},
   "outputs": [
    {
     "name": "stdout",
     "output_type": "stream",
     "text": [
      "Prior probability of survival: 38.38 %\n"
     ]
    },
    {
     "data": {
      "image/png": "[encoded data removed]",
      "text/plain": [
       "<Figure size 432x288 with 1 Axes>"
      ]
     },
     "metadata": {
      "needs_background": "light"
     },
     "output_type": "display_data"
    }
   ],
   "source": [
    "sns.countplot(x='Survived',data=train_data)\n",
    "prior = train_data.where(train_data[\"Survived\"] == 1).count()[\"Survived\"] / train_data.count()[\"Survived\"]\n",
    "print(\"Prior probability of survival: {:.2f} %\".format(prior * 100))"
   ]
  },
  {
   "cell_type": "markdown",
   "metadata": {},
   "source": [
    "The data is biased: Before anything else, the prior probability of survival is only ~ 38 %."
   ]
  },
  {
   "cell_type": "code",
   "execution_count": null,
   "metadata": {},
   "outputs": [],
   "source": []
  }
 ],
 "metadata": {
  "kernelspec": {
   "display_name": "Python 3",
   "language": "python",
   "name": "python3"
  },
  "language_info": {
   "codemirror_mode": {
    "name": "ipython",
    "version": 3
   },
   "file_extension": ".py",
   "mimetype": "text/x-python",
   "name": "python",
   "nbconvert_exporter": "python",
   "pygments_lexer": "ipython3",
   "version": "3.6.9"
  }
 },
 "nbformat": 4,
 "nbformat_minor": 4
}
