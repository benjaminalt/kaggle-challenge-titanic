{
 "cells": [
  {
   "cell_type": "code",
   "execution_count": 19,
   "metadata": {},
   "outputs": [],
   "source": [
    "import pandas as pd\n",
    "import seaborn as sns\n",
    "import matplotlib.pyplot as plt\n",
    "%matplotlib inline"
   ]
  },
  {
   "cell_type": "code",
   "execution_count": 44,
   "metadata": {},
   "outputs": [
    {
     "name": "stdout",
     "output_type": "stream",
     "text": [
      "   PassengerId  Survived  Pclass  \\\n",
      "0            1         0       3   \n",
      "1            2         1       1   \n",
      "2            3         1       3   \n",
      "3            4         1       1   \n",
      "4            5         0       3   \n",
      "\n",
      "                                                Name     Sex   Age  SibSp  \\\n",
      "0                            Braund, Mr. Owen Harris    male  22.0      1   \n",
      "1  Cumings, Mrs. John Bradley (Florence Briggs Th...  female  38.0      1   \n",
      "2                             Heikkinen, Miss. Laina  female  26.0      0   \n",
      "3       Futrelle, Mrs. Jacques Heath (Lily May Peel)  female  35.0      1   \n",
      "4                           Allen, Mr. William Henry    male  35.0      0   \n",
      "\n",
      "   Parch            Ticket     Fare Cabin Embarked  \n",
      "0      0         A/5 21171   7.2500   NaN        S  \n",
      "1      0          PC 17599  71.2833   C85        C  \n",
      "2      0  STON/O2. 3101282   7.9250   NaN        S  \n",
      "3      0            113803  53.1000  C123        S  \n",
      "4      0            373450   8.0500   NaN        S  \n"
     ]
    }
   ],
   "source": [
    "train_data = pd.read_csv(\"data/train.csv\")\n",
    "print(train_data.head())"
   ]
  },
  {
   "cell_type": "code",
   "execution_count": 62,
   "metadata": {},
   "outputs": [
    {
     "name": "stdout",
     "output_type": "stream",
     "text": [
      "Unique cabin letters: ['' 'C' 'E' 'G' 'D' 'A' 'C C C' 'B' 'F' 'F G' 'D D' 'B B' 'F E' 'C C'\n",
      " 'B B B B' 'T' 'B B B']\n",
      "Values of 'Embarked': ['S' 'C' 'Q' nan]\n",
      "\n",
      "   PassengerId  Survived  Pclass  \\\n",
      "0            1         0       3   \n",
      "1            2         1       1   \n",
      "2            3         1       3   \n",
      "3            4         1       1   \n",
      "4            5         0       3   \n",
      "\n",
      "                                                Name  Sex   Age  SibSp  Parch  \\\n",
      "0                            Braund, Mr. Owen Harris    1  22.0      1      0   \n",
      "1  Cumings, Mrs. John Bradley (Florence Briggs Th...    0  38.0      1      0   \n",
      "2                             Heikkinen, Miss. Laina    0  26.0      0      0   \n",
      "3       Futrelle, Mrs. Jacques Heath (Lily May Peel)    0  35.0      1      0   \n",
      "4                           Allen, Mr. William Henry    1  35.0      0      0   \n",
      "\n",
      "             Ticket     Fare Cabin Embarked  CabinNumber CabinLetter  HasCabin  \n",
      "0         A/5 21171   7.2500   NaN        S            0                     0  \n",
      "1          PC 17599  71.2833   C85        C           85           C         1  \n",
      "2  STON/O2. 3101282   7.9250   NaN        S            0                     0  \n",
      "3            113803  53.1000  C123        S          123           C         1  \n",
      "4            373450   8.0500   NaN        S            0                     0  \n"
     ]
    }
   ],
   "source": [
    "train_data = train_data.replace({\"female\": 0, \"male\": 1})\n",
    "\n",
    "def extract_letters_and_digits(string):\n",
    "    digits = \"0\"\n",
    "    letters = \"\"\n",
    "    for letter in string:\n",
    "        if letter.isdigit():\n",
    "            digits += letter\n",
    "            continue\n",
    "        letters += letter\n",
    "    return letters, int(digits)\n",
    "\n",
    "\n",
    "cabin_letters = []\n",
    "cabin_numbers = []\n",
    "for i, cabin in enumerate(train_data[\"Cabin\"]):\n",
    "    if pd.isnull(cabin):\n",
    "        cabin_letter = \"\"\n",
    "        cabin_number = 0\n",
    "    else:\n",
    "        cabin_letter, cabin_number = extract_letters_and_digits(cabin)\n",
    "    cabin_letters.append(cabin_letter)\n",
    "    cabin_numbers.append(cabin_number)\n",
    "train_data[\"CabinNumber\"] = cabin_numbers\n",
    "train_data[\"CabinLetter\"] = cabin_letters\n",
    "train_data[\"HasCabin\"] = (train_data[\"CabinNumber\"] != 0).astype(int)\n",
    "\n",
    "print(\"Unique cabin letters: {}\".format(train_data[\"CabinLetter\"].unique()))\n",
    "print(\"Values of 'Embarked': {}\".format(train_data[\"Embarked\"].unique()))\n",
    "print()\n",
    "print(train_data.head())"
   ]
  },
  {
   "cell_type": "code",
   "execution_count": 63,
   "metadata": {},
   "outputs": [
    {
     "data": {
      "text/plain": [
       "<seaborn.axisgrid.PairGrid at 0x7f1e42aac470>"
      ]
     },
     "execution_count": 63,
     "metadata": {},
     "output_type": "execute_result"
    },
    {
     "data": {
      "image/png": "[encoded data removed]",
      "text/plain": [
       "<Figure size 1440x180 with 8 Axes>"
      ]
     },
     "metadata": {
      "needs_background": "light"
     },
     "output_type": "display_data"
    }
   ],
   "source": [
    "x_vars = [\"Pclass\", \"Sex\", \"Age\", \"SibSp\", \"Parch\", \"Fare\", \"CabinNumber\", \"HasCabin\"]\n",
    "sns.pairplot(train_data, x_vars=x_vars, y_vars=[\"Survived\"])"
   ]
  },
  {
   "cell_type": "code",
   "execution_count": 64,
   "metadata": {},
   "outputs": [
    {
     "name": "stdout",
     "output_type": "stream",
     "text": [
      "Pclass: -0.338\n",
      "Sex: -0.543\n",
      "Age: -0.077\n",
      "SibSp: -0.035\n",
      "Parch: 0.082\n",
      "Fare: 0.257\n",
      "CabinNumber: 0.060\n",
      "HasCabin: 0.317\n"
     ]
    }
   ],
   "source": [
    "# Correlation\n",
    "for x in x_vars:\n",
    "    print(\"{}: {:.3f}\".format(x, train_data[[\"Survived\", x]].corr().iloc[0,1]))"
   ]
  },
  {
   "cell_type": "markdown",
   "metadata": {},
   "source": [
    "* Pclass, age & sibsp negatively correlated with survival\n",
    "* Being male negatively correlated with survival\n",
    "* Fare & HasCabin (presumably describe similar phenomenon) positively correlated with survival"
   ]
  },
  {
   "cell_type": "code",
   "execution_count": null,
   "metadata": {},
   "outputs": [],
   "source": []
  }
 ],
 "metadata": {
  "kernelspec": {
   "display_name": "Python 3",
   "language": "python",
   "name": "python3"
  },
  "language_info": {
   "codemirror_mode": {
    "name": "ipython",
    "version": 3
   },
   "file_extension": ".py",
   "mimetype": "text/x-python",
   "name": "python",
   "nbconvert_exporter": "python",
   "pygments_lexer": "ipython3",
   "version": "3.6.9"
  }
 },
 "nbformat": 4,
 "nbformat_minor": 4
}
