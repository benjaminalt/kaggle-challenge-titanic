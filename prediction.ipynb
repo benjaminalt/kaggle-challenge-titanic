{
 "cells": [
  {
   "cell_type": "code",
   "execution_count": 1,
   "metadata": {},
   "outputs": [],
   "source": [
    "import pandas as pd\n",
    "import seaborn as sns\n",
    "import matplotlib.pyplot as plt\n",
    "import numpy as np\n",
    "import collections\n",
    "import torch\n",
    "%matplotlib inline\n",
    "\n",
    "from sklearn.metrics import accuracy_score\n",
    "from sklearn.preprocessing import MinMaxScaler\n",
    "from sklearn.linear_model import LogisticRegression\n",
    "from sklearn.naive_bayes import GaussianNB, BernoulliNB\n",
    "from sklearn.ensemble import RandomForestClassifier\n",
    "\n",
    "from data_cleaning import clean_data\n",
    "from submission_utils import prediction_to_csv"
   ]
  },
  {
   "cell_type": "code",
   "execution_count": 2,
   "metadata": {},
   "outputs": [],
   "source": [
    "train_data = pd.read_csv(\"data/train.csv\")\n",
    "test_data = pd.read_csv(\"data/test.csv\")\n",
    "\n",
    "train_data = clean_data(train_data)\n",
    "test_data = clean_data(test_data)\n",
    "\n",
    "n_train = int(len(train_data) * 0.8)\n",
    "n_validate = len(train_data) - n_train\n",
    "x_train = train_data.drop(\"Survived\", axis=1).head(n_train)\n",
    "y_train = train_data[\"Survived\"].head(n_train)\n",
    "x_validate = train_data.drop(\"Survived\", axis=1).tail(n_validate)\n",
    "y_validate = train_data[\"Survived\"].tail(n_validate)"
   ]
  },
  {
   "cell_type": "code",
   "execution_count": 3,
   "metadata": {},
   "outputs": [
    {
     "name": "stdout",
     "output_type": "stream",
     "text": [
      "Prior prob. of survival: 0.39\n",
      "Validation accuracy: 0.53\n"
     ]
    }
   ],
   "source": [
    "# Baseline: Random using prior\n",
    "survival_prior = y_train.mean()\n",
    "print(\"Prior prob. of survival: {:.2f}\".format(survival_prior))\n",
    "predictions = np.random.choice([0,1], len(y_validate), p=[1-survival_prior, survival_prior])\n",
    "print(\"Validation accuracy: {:.2f}\".format(accuracy_score(y_validate, predictions)))"
   ]
  },
  {
   "cell_type": "code",
   "execution_count": 4,
   "metadata": {},
   "outputs": [
    {
     "name": "stdout",
     "output_type": "stream",
     "text": [
      "Validation accuracy: 0.82\n"
     ]
    },
    {
     "data": {
      "image/png": "[encoded data removed]",
      "text/plain": [
       "<Figure size 432x288 with 1 Axes>"
      ]
     },
     "metadata": {
      "needs_background": "light"
     },
     "output_type": "display_data"
    }
   ],
   "source": [
    "# Logistic regression\n",
    "scaler = MinMaxScaler()\n",
    "x_scaled = scaler.fit_transform(x_train)\n",
    "validation_scaled = scaler.transform(x_validate)\n",
    "\n",
    "logistic_regression = LogisticRegression(solver=\"lbfgs\")\n",
    "logistic_regression.fit(x_scaled, y_train)\n",
    "\n",
    "predictions = logistic_regression.predict(validation_scaled)\n",
    "print(\"Validation accuracy: {:.2f}\".format(accuracy_score(y_validate, predictions)))\n",
    "coeff_bars = sns.barplot(x_train.columns, logistic_regression.coef_[0])\n",
    "coeff_bars.set_ylabel(\"Regression coefficients\")\n",
    "for item in coeff_bars.get_xticklabels():\n",
    "    item.set_rotation(\"vertical\")"
   ]
  },
  {
   "cell_type": "code",
   "execution_count": 5,
   "metadata": {},
   "outputs": [
    {
     "data": {
      "image/png": "[encoded data removed]",
      "text/plain": [
       "<Figure size 432x288 with 1 Axes>"
      ]
     },
     "metadata": {
      "needs_background": "light"
     },
     "output_type": "display_data"
    }
   ],
   "source": [
    "# Single-feature regressions\n",
    "accuracies = {}\n",
    "for independent_variable in x_train.columns:\n",
    "    scaler = MinMaxScaler()\n",
    "    x_scaled = scaler.fit_transform(x_train[[independent_variable]])\n",
    "    logistic_regression = LogisticRegression(solver=\"lbfgs\")\n",
    "    logistic_regression.fit(x_scaled, y_train)\n",
    "    x_scaled_validate = scaler.transform(x_validate[[independent_variable]])\n",
    "    predictions = logistic_regression.predict(x_scaled_validate)\n",
    "    acc = accuracy_score(y_validate, predictions)\n",
    "    accuracies[independent_variable] = acc\n",
    "accuracies_ordered = collections.OrderedDict({k: v for k, v in sorted(accuracies.items(), key=lambda item: item[1], reverse=True)})\n",
    "acc_bars = sns.barplot(list(accuracies_ordered.keys()), list(accuracies_ordered.values()))\n",
    "acc_bars.set_ylabel(\"Accuracy\")\n",
    "for item in acc_bars.get_xticklabels():\n",
    "    item.set_rotation(\"vertical\")"
   ]
  },
  {
   "cell_type": "code",
   "execution_count": 6,
   "metadata": {},
   "outputs": [
    {
     "name": "stdout",
     "output_type": "stream",
     "text": [
      "Validation accuracy: 0.66\n"
     ]
    }
   ],
   "source": [
    "# Bayesian inference on sex\n",
    "posteriors = {}\n",
    "for sex in range(2):\n",
    "    # likelihood: Probability of sex given survived\n",
    "    joint_probability = len(train_data[(train_data[\"Survived\"] == 1) & (train_data[\"Sex\"] == sex)]) / len(train_data)\n",
    "    likelihood = joint_probability / survival_prior\n",
    "\n",
    "    # evidence: Number of sex / number of passengers\n",
    "    evidence = len(train_data[train_data[\"Sex\"] == sex]) / len(train_data)\n",
    "    posterior = (likelihood * survival_prior) / evidence\n",
    "    posteriors[sex] = posterior\n",
    "def draw_survived(x):\n",
    "    return np.random.choice([0,1], p=[1-posteriors[x], posteriors[x]])\n",
    "predictions = x_validate[\"Sex\"].apply(draw_survived)\n",
    "print(\"Validation accuracy: {:.2f}\".format(accuracy_score(y_validate, predictions)))"
   ]
  },
  {
   "cell_type": "code",
   "execution_count": 7,
   "metadata": {},
   "outputs": [
    {
     "name": "stdout",
     "output_type": "stream",
     "text": [
      "Validation accuracy GaussianNB (Sex, Age, Fare): 0.81\n",
      "Validation accuracy GaussianNB (Sex): 0.80\n",
      "Validation accuracy GaussianNB (Age): 0.64\n",
      "Validation accuracy GaussianNB (Fare): 0.72\n",
      "Validation accuracy BernoulliNB (Sex): 0.80\n"
     ]
    }
   ],
   "source": [
    "# Gaussian Naive Bayes classifier using sex, age and fare\n",
    "features = [\"Sex\", \"Age\",  \"Fare\"]\n",
    "gnb = GaussianNB()\n",
    "predictions = gnb.fit(x_train[features], y_train).predict(x_validate[features])\n",
    "print(\"Validation accuracy GaussianNB (Sex, Age, Fare): {:.2f}\".format(accuracy_score(y_validate, predictions)))\n",
    "\n",
    "for feature in features:\n",
    "    gnb = GaussianNB()\n",
    "    x_train_feat = x_train[feature].to_numpy()\n",
    "    x_train_feat = np.expand_dims(x_train_feat, -1)\n",
    "    x_validate_feat = x_validate[feature].to_numpy()\n",
    "    x_validate_feat = np.expand_dims(x_validate_feat, -1)\n",
    "    predictions = gnb.fit(x_train_feat, y_train).predict(x_validate_feat)\n",
    "    print(\"Validation accuracy GaussianNB ({}): {:.2f}\".format(feature, accuracy_score(y_validate, predictions)))\n",
    "\n",
    "    \n",
    "bnb = BernoulliNB()\n",
    "x_train_feat = x_train[\"Sex\"].to_numpy()\n",
    "x_train_feat = np.expand_dims(x_train_feat, -1)\n",
    "x_validate_feat = x_validate[\"Sex\"].to_numpy()\n",
    "x_validate_feat = np.expand_dims(x_validate_feat, -1)\n",
    "predictions = bnb.fit(x_train_feat, y_train).predict(x_validate_feat)\n",
    "print(\"Validation accuracy BernoulliNB (Sex): {:.2f}\".format(accuracy_score(y_validate, predictions)))\n"
   ]
  },
  {
   "cell_type": "code",
   "execution_count": 8,
   "metadata": {},
   "outputs": [
    {
     "name": "stdout",
     "output_type": "stream",
     "text": [
      "Validate accuracy random forest: 0.85\n",
      "n_estimators: 50\n",
      "criterion: entropy\n"
     ]
    }
   ],
   "source": [
    "# Random Forest\n",
    "forests = []\n",
    "for n_estimators in range(10, 100, 10):\n",
    "    for criterion in [\"gini\", \"entropy\"]:\n",
    "        random_forest = RandomForestClassifier(n_estimators=100)\n",
    "        random_forest.fit(x_train, y_train)\n",
    "        acc = random_forest.score(x_validate, y_validate)\n",
    "        forests.append({\n",
    "            \"n_estimators\": n_estimators,\n",
    "            \"criterion\": criterion,\n",
    "            \"acc\": acc,\n",
    "            \"model\": random_forest\n",
    "        })\n",
    "best_acc = 0\n",
    "best_forest = None\n",
    "for forest in forests:\n",
    "    if forest[\"acc\"] > best_acc:\n",
    "        best_acc = forest[\"acc\"]\n",
    "        best_forest = forest\n",
    "print(\"Validate accuracy random forest: {:.2f}\".format(best_forest[\"acc\"]))\n",
    "for parameter in filter(lambda item: item[0] not in [\"acc\", \"model\"], best_forest.items()):\n",
    "    print(\"{}: {}\".format(*parameter))\n",
    "\n",
    "test_predictions = best_forest[\"model\"].predict(test_data)\n",
    "prediction_to_csv(test_predictions, \"random_forest.csv\")\n",
    "# Test accuracy 0.75598"
   ]
  },
  {
   "cell_type": "code",
   "execution_count": 9,
   "metadata": {},
   "outputs": [],
   "source": [
    "device = torch.device(\"cuda\") if torch.cuda.is_available() else torch.device(\"cpu\")\n",
    "\n",
    "def acc(output, label):\n",
    "    pred = output >= 0.5\n",
    "    target = label >= 0.5\n",
    "    return pred.eq(target).sum() / float(target.numel())\n",
    "\n",
    "def train(model: torch.nn.Module, inputs_train: torch.Tensor, labels_train: torch.Tensor, \n",
    "          inputs_validate: torch.Tensor, labels_validate: torch.Tensor, n_epochs: int, batch_size: int, lr: float):\n",
    "    model = model.to(device)\n",
    "    train_data = torch.utils.data.TensorDataset(inputs_train, labels_train)\n",
    "    train_loader = torch.utils.data.DataLoader(train_data, batch_size, shuffle=True, num_workers=1, pin_memory=True)\n",
    "    validate_data = torch.utils.data.TensorDataset(inputs_validate, labels_validate)\n",
    "    validate_loader = torch.utils.data.DataLoader(validate_data, batch_size, shuffle=True, num_workers=1, pin_memory=True)\n",
    "    optimizer = torch.optim.Adam(model.parameters(), lr)\n",
    "    loss_fn = torch.nn.BCELoss()\n",
    "    losses = []\n",
    "    accs = []\n",
    "    \n",
    "    print_every = int(n_epochs / 10)\n",
    "    \n",
    "    for epoch in range(n_epochs):\n",
    "        avg_train_loss = 0\n",
    "        avg_train_acc = 0\n",
    "        avg_validate_loss = 0\n",
    "        avg_validate_acc = 0\n",
    "        \n",
    "        model = model.train()\n",
    "        for inputs, labels in train_loader:\n",
    "            inputs = inputs.to(device)\n",
    "            labels = labels.to(device)\n",
    "            optimizer.zero_grad()\n",
    "            \n",
    "            outputs = model(inputs)\n",
    "            \n",
    "            loss = loss_fn(outputs, labels)\n",
    "            loss.backward()\n",
    "            optimizer.step()\n",
    "            \n",
    "            avg_train_loss += loss.item()\n",
    "            avg_train_acc += acc(outputs, labels).item()\n",
    "        \n",
    "        avg_train_loss /= len(train_loader)\n",
    "        avg_train_acc /= len(train_loader)\n",
    "        if epoch % print_every == 0 or epoch == n_epochs - 1:\n",
    "            print(\"[{} / {}] Train loss: {:.5f}, acc: {:.5f}\".format(epoch, n_epochs,\n",
    "                                                                     avg_train_loss, avg_train_acc))\n",
    "        losses.append(avg_train_loss)\n",
    "        accs.append(avg_train_acc)\n",
    "        \n",
    "        model = model.eval()\n",
    "        with torch.no_grad():\n",
    "            for inputs, labels in validate_loader:\n",
    "                inputs = inputs.to(device)\n",
    "                labels = labels.to(device)\n",
    "                \n",
    "                outputs = model(inputs)\n",
    "                loss = loss_fn(outputs, labels)\n",
    "                \n",
    "                avg_validate_loss += loss.item()\n",
    "                avg_validate_acc += acc(outputs, labels).item()\n",
    "\n",
    "            avg_validate_loss /= len(validate_loader)\n",
    "            avg_validate_acc /= len(validate_loader)\n",
    "            if epoch % print_every == 0 or epoch == n_epochs - 1:\n",
    "                print(\"[{} / {}] Validate loss: {:.5f}, acc: {:.5f}\".format(epoch, n_epochs, \n",
    "                                                                         avg_validate_loss, avg_validate_acc))\n",
    "            losses.append(avg_validate_loss)\n",
    "            accs.append(avg_validate_acc)\n",
    "\n",
    "    return losses, accs"
   ]
  },
  {
   "cell_type": "code",
   "execution_count": 10,
   "metadata": {},
   "outputs": [],
   "source": [
    "scaler = MinMaxScaler()\n",
    "x_train_scaled = scaler.fit_transform(x_train.to_numpy())\n",
    "x_validate_scaled = scaler.fit_transform(x_validate.to_numpy())\n",
    "input_train = torch.from_numpy(x_train_scaled).float()\n",
    "label_train = torch.from_numpy(y_train.to_numpy()).float().unsqueeze(-1)\n",
    "input_validate = torch.from_numpy(x_validate_scaled).float()\n",
    "label_validate = torch.from_numpy(y_validate.to_numpy()).float().unsqueeze(-1)"
   ]
  },
  {
   "cell_type": "code",
   "execution_count": 11,
   "metadata": {},
   "outputs": [],
   "source": [
    "# Neural net\n",
    "class DenseNet(torch.nn.Module):\n",
    "    def __init__(self, n_inputs, n_layers: int, width: int):\n",
    "        super(DenseNet, self).__init__()\n",
    "        self.input_layer = torch.nn.Linear(n_inputs, width)\n",
    "        self.linear_layers = torch.nn.ModuleList([torch.nn.Linear(width, width) for _ in range(n_layers)])\n",
    "        self.output_layer = torch.nn.Linear(width, 1)\n",
    "    \n",
    "    def forward(self, x):\n",
    "        x = torch.nn.SELU()(self.input_layer(x))\n",
    "        for linear_layer in self.linear_layers:\n",
    "            x = torch.nn.SELU()(linear_layer(x))\n",
    "        x = torch.nn.Sigmoid()(self.output_layer(x))\n",
    "        return x"
   ]
  },
  {
   "cell_type": "code",
   "execution_count": 13,
   "metadata": {},
   "outputs": [
    {
     "name": "stdout",
     "output_type": "stream",
     "text": [
      "[0 / 500] Train loss: 0.66480, acc: 0.61005\n",
      "[0 / 500] Validate loss: 0.64800, acc: 0.63816\n",
      "[50 / 500] Train loss: 0.50979, acc: 0.77853\n",
      "[50 / 500] Validate loss: 0.46778, acc: 0.80702\n",
      "[100 / 500] Train loss: 0.48093, acc: 0.78940\n",
      "[100 / 500] Validate loss: 0.42190, acc: 0.82977\n",
      "[150 / 500] Train loss: 0.45826, acc: 0.79755\n",
      "[150 / 500] Validate loss: 0.40898, acc: 0.82621\n",
      "[200 / 500] Train loss: 0.46660, acc: 0.79348\n",
      "[200 / 500] Validate loss: 0.42064, acc: 0.83470\n",
      "[250 / 500] Train loss: 0.45093, acc: 0.80435\n",
      "[250 / 500] Validate loss: 0.41447, acc: 0.83827\n",
      "[300 / 500] Train loss: 0.44602, acc: 0.80571\n",
      "[300 / 500] Validate loss: 0.40117, acc: 0.84348\n",
      "[350 / 500] Train loss: 0.43714, acc: 0.81386\n",
      "[350 / 500] Validate loss: 0.40550, acc: 0.84512\n",
      "[400 / 500] Train loss: 0.44363, acc: 0.81114\n",
      "[400 / 500] Validate loss: 0.39075, acc: 0.84868\n",
      "[450 / 500] Train loss: 0.43401, acc: 0.81522\n",
      "[450 / 500] Validate loss: 0.38341, acc: 0.85581\n",
      "[499 / 500] Train loss: 0.45059, acc: 0.80842\n",
      "[499 / 500] Validate loss: 0.38295, acc: 0.85060\n"
     ]
    },
    {
     "data": {
      "image/png": "[encoded data removed]",
      "text/plain": [
       "<Figure size 432x288 with 1 Axes>"
      ]
     },
     "metadata": {
      "needs_background": "light"
     },
     "output_type": "display_data"
    },
    {
     "data": {
      "image/png": "[encoded data removed]",
      "text/plain": [
       "<Figure size 432x288 with 1 Axes>"
      ]
     },
     "metadata": {
      "needs_background": "light"
     },
     "output_type": "display_data"
    }
   ],
   "source": [
    "num_epochs = 500\n",
    "batch_size = 32\n",
    "num_layers = 3\n",
    "width = 8\n",
    "learning_rate = 1e-4\n",
    "model = DenseNet(input_train.size(-1), num_layers, width)\n",
    "losses, accs = train(model, input_train, label_train, input_validate, label_validate,\n",
    "                     num_epochs, batch_size, learning_rate)\n",
    "plt.plot(range(len(losses)), losses)\n",
    "plt.xlabel(\"Epoch\")\n",
    "plt.ylabel(\"Loss\")\n",
    "plt.show()\n",
    "plt.plot(range(len(accs)), accs)\n",
    "plt.xlabel(\"Epoch\")\n",
    "plt.ylabel(\"Accuracy\")\n",
    "plt.show()"
   ]
  },
  {
   "cell_type": "code",
   "execution_count": null,
   "metadata": {},
   "outputs": [],
   "source": [
    "\n"
   ]
  }
 ],
 "metadata": {
  "kernelspec": {
   "display_name": "Python 3",
   "language": "python",
   "name": "python3"
  },
  "language_info": {
   "codemirror_mode": {
    "name": "ipython",
    "version": 3
   },
   "file_extension": ".py",
   "mimetype": "text/x-python",
   "name": "python",
   "nbconvert_exporter": "python",
   "pygments_lexer": "ipython3",
   "version": "3.6.8"
  }
 },
 "nbformat": 4,
 "nbformat_minor": 4
}
