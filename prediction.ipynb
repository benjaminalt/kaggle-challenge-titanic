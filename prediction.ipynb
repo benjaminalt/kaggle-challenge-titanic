{
 "cells": [
  {
   "cell_type": "code",
   "execution_count": 48,
   "metadata": {},
   "outputs": [],
   "source": [
    "import pandas as pd\n",
    "import seaborn as sns\n",
    "import matplotlib.pyplot as plt\n",
    "import numpy as np\n",
    "import collections\n",
    "import torch\n",
    "%matplotlib inline\n",
    "\n",
    "from sklearn.metrics import accuracy_score\n",
    "from sklearn.preprocessing import MinMaxScaler\n",
    "from sklearn.linear_model import LogisticRegression\n",
    "from sklearn.naive_bayes import GaussianNB, BernoulliNB\n",
    "\n",
    "from data_cleaning import clean_data"
   ]
  },
  {
   "cell_type": "code",
   "execution_count": 49,
   "metadata": {},
   "outputs": [],
   "source": [
    "train_data = pd.read_csv(\"data/train.csv\")\n",
    "test_data = pd.read_csv(\"data/test.csv\")\n",
    "\n",
    "train_data = clean_data(train_data)\n",
    "test_data = clean_data(test_data)\n",
    "\n",
    "x_train = train_data.drop(\"Survived\", axis=1)\n",
    "y_train = train_data[\"Survived\"]"
   ]
  },
  {
   "cell_type": "code",
   "execution_count": 50,
   "metadata": {},
   "outputs": [
    {
     "name": "stdout",
     "output_type": "stream",
     "text": [
      "Prior prob. of survival: 0.38\n",
      "Accuracy: 0.56\n"
     ]
    }
   ],
   "source": [
    "# Baseline: Random using prior\n",
    "survival_prior = train_data[\"Survived\"].mean()\n",
    "print(\"Prior prob. of survival: {:.2f}\".format(survival_prior))\n",
    "predictions = np.random.choice([0,1], len(train_data), p=[1-survival_prior, survival_prior])\n",
    "print(\"Accuracy: {:.2f}\".format(accuracy_score(y_train, predictions)))"
   ]
  },
  {
   "cell_type": "code",
   "execution_count": 51,
   "metadata": {},
   "outputs": [
    {
     "name": "stdout",
     "output_type": "stream",
     "text": [
      "Accuracy: 0.80\n"
     ]
    },
    {
     "data": {
      "image/png": "[encoded data removed]",
      "text/plain": [
       "<Figure size 432x288 with 1 Axes>"
      ]
     },
     "metadata": {
      "needs_background": "light"
     },
     "output_type": "display_data"
    }
   ],
   "source": [
    "# Logistic regression\n",
    "scaler = MinMaxScaler()\n",
    "x_scaled = scaler.fit_transform(x_train)\n",
    "test_scaled = scaler.transform(test_data)\n",
    "\n",
    "logistic_regression = LogisticRegression(solver=\"lbfgs\")\n",
    "logistic_regression.fit(x_scaled, y_train)\n",
    "\n",
    "predictions = logistic_regression.predict(x_scaled)\n",
    "print(\"Accuracy: {:.2f}\".format(accuracy_score(y_train, predictions)))\n",
    "coeff_bars = sns.barplot(x_train.columns, logistic_regression.coef_[0])\n",
    "coeff_bars.set_ylabel(\"Regression coefficients\")\n",
    "for item in coeff_bars.get_xticklabels():\n",
    "    item.set_rotation(\"vertical\")"
   ]
  },
  {
   "cell_type": "code",
   "execution_count": 52,
   "metadata": {},
   "outputs": [
    {
     "data": {
      "image/png": "[encoded data removed]",
      "text/plain": [
       "<Figure size 432x288 with 1 Axes>"
      ]
     },
     "metadata": {
      "needs_background": "light"
     },
     "output_type": "display_data"
    }
   ],
   "source": [
    "# Single-feature regressions\n",
    "accuracies = {}\n",
    "for independent_variable in x_train.columns:\n",
    "    x_train_small = train_data[[independent_variable]]\n",
    "    scaler = MinMaxScaler()\n",
    "    x_scaled_small = scaler.fit_transform(x_train_small)\n",
    "    logistic_regression = LogisticRegression(solver=\"lbfgs\")\n",
    "    logistic_regression.fit(x_scaled_small, y_train)\n",
    "    predictions = logistic_regression.predict(x_scaled_small)\n",
    "    acc = accuracy_score(y_train, predictions)\n",
    "    accuracies[independent_variable] = acc\n",
    "accuracies_ordered = collections.OrderedDict({k: v for k, v in sorted(accuracies.items(), key=lambda item: item[1], reverse=True)})\n",
    "acc_bars = sns.barplot(list(accuracies_ordered.keys()), list(accuracies_ordered.values()))\n",
    "acc_bars.set_ylabel(\"Accuracy\")\n",
    "for item in acc_bars.get_xticklabels():\n",
    "    item.set_rotation(\"vertical\")"
   ]
  },
  {
   "cell_type": "code",
   "execution_count": 53,
   "metadata": {},
   "outputs": [
    {
     "name": "stdout",
     "output_type": "stream",
     "text": [
      "Accuracy: 0.67\n"
     ]
    }
   ],
   "source": [
    "# Bayesian inference on sex\n",
    "\n",
    "posteriors = {}\n",
    "for sex in range(2):\n",
    "    # likelihood: Probability of sex given survived\n",
    "    joint_probability = len(train_data[(train_data[\"Survived\"] == 1) & (train_data[\"Sex\"] == sex)]) / len(train_data)\n",
    "    likelihood = joint_probability / survival_prior\n",
    "\n",
    "    # evidence: Number of sex / number of passengers\n",
    "    evidence = len(train_data[train_data[\"Sex\"] == sex]) / len(train_data)\n",
    "    posterior = (likelihood * survival_prior) / evidence\n",
    "    posteriors[sex] = posterior\n",
    "def draw_survived(x):\n",
    "    return np.random.choice([0,1], p=[1-posteriors[x], posteriors[x]])\n",
    "predictions = x_train[\"Sex\"].apply(draw_survived)\n",
    "print(\"Accuracy: {:.2f}\".format(accuracy_score(y_train, predictions)))"
   ]
  },
  {
   "cell_type": "code",
   "execution_count": 54,
   "metadata": {},
   "outputs": [
    {
     "name": "stdout",
     "output_type": "stream",
     "text": [
      "Accuracy GaussianNB (Sex, Age, Fare): 0.78\n",
      "Accuracy GaussianNB (Sex): 0.79\n",
      "Accuracy GaussianNB (Age): 0.62\n",
      "Accuracy GaussianNB (Fare): 0.67\n",
      "Accuracy BernoulliNB (Sex): 0.79\n"
     ]
    }
   ],
   "source": [
    "# Gaussian Naive Bayes classifier using sex, age and fare\n",
    "features = [\"Sex\", \"Age\",  \"Fare\"]\n",
    "gnb = GaussianNB()\n",
    "x_train_small = x_train[features]\n",
    "predictions = gnb.fit(x_train_small, y_train).predict(x_train_small)\n",
    "print(\"Accuracy GaussianNB (Sex, Age, Fare): {:.2f}\".format(accuracy_score(y_train, predictions)))\n",
    "\n",
    "for feature in features:\n",
    "    gnb = GaussianNB()\n",
    "    x_train_feat = x_train[feature].to_numpy()\n",
    "    x_train_feat = np.expand_dims(x_train_feat, -1)\n",
    "    predictions = gnb.fit(x_train_feat, y_train).predict(x_train_feat)\n",
    "    print(\"Accuracy GaussianNB ({}): {:.2f}\".format(feature, accuracy_score(y_train, predictions)))\n",
    "\n",
    "    \n",
    "bnb = BernoulliNB()\n",
    "x_train_feat = x_train[\"Sex\"].to_numpy()\n",
    "x_train_feat = np.expand_dims(x_train_feat, -1)\n",
    "predictions = bnb.fit(x_train_feat, y_train).predict(x_train_feat)\n",
    "print(\"Accuracy BernoulliNB (Sex): {:.2f}\".format(accuracy_score(y_train, predictions)))\n"
   ]
  },
  {
   "cell_type": "code",
   "execution_count": 76,
   "metadata": {},
   "outputs": [],
   "source": [
    "device = torch.device(\"cuda\") if torch.cuda.is_available() else torch.device(\"cpu\")\n",
    "\n",
    "def acc(output, label):\n",
    "    pred = output >= 0.5\n",
    "    target = label >= 0.5\n",
    "    return pred.eq(target).sum() / float(target.numel())\n",
    "\n",
    "def train(model: torch.nn.Module, inputs: torch.Tensor, labels: torch.Tensor, n_epochs: int, batch_size: int, lr: float):\n",
    "    model = model.to(device).train()\n",
    "    dataset = torch.utils.data.TensorDataset(inputs, labels)\n",
    "    data_loader = torch.utils.data.DataLoader(dataset, batch_size, shuffle=True, num_workers=1, pin_memory=True)\n",
    "    optimizer = torch.optim.Adam(model.parameters(), lr)\n",
    "    loss_fn = torch.nn.BCELoss()\n",
    "    losses = []\n",
    "    accs = []\n",
    "    \n",
    "    print_every = int(n_epochs / 10)\n",
    "    \n",
    "    for epoch in range(n_epochs):\n",
    "        avg_loss = 0\n",
    "        avg_acc = 0\n",
    "    \n",
    "        for inputs, labels in data_loader:\n",
    "            inputs = inputs.to(device)\n",
    "            labels = labels.to(device)\n",
    "            optimizer.zero_grad()\n",
    "            \n",
    "            outputs = model(inputs)\n",
    "            \n",
    "            loss = loss_fn(outputs, labels)\n",
    "            loss.backward()\n",
    "            optimizer.step()\n",
    "            \n",
    "            avg_loss += loss.item()\n",
    "            avg_acc += acc(outputs, labels).item()\n",
    "        \n",
    "        avg_loss /= len(data_loader)\n",
    "        avg_acc /= len(data_loader)\n",
    "        if epoch % print_every == 0 or epoch == n_epochs - 1:\n",
    "            print(\"[{} / {}] Loss: {:.5f}, acc: {:.5f}\".format(epoch, n_epochs, avg_loss, avg_acc))\n",
    "        losses.append(avg_loss)\n",
    "        accs.append(avg_acc)\n",
    "\n",
    "    return losses, accs"
   ]
  },
  {
   "cell_type": "code",
   "execution_count": 56,
   "metadata": {},
   "outputs": [
    {
     "name": "stdout",
     "output_type": "stream",
     "text": [
      "torch.Size([891, 11])\n",
      "torch.Size([891, 1])\n"
     ]
    }
   ],
   "source": [
    "scaler = MinMaxScaler()\n",
    "x_scaled = scaler.fit_transform(x_train.to_numpy())\n",
    "input_tensor = torch.from_numpy(x_scaled).float()\n",
    "label_tensor = torch.from_numpy(y_train.to_numpy()).float().unsqueeze(-1)\n",
    "print(input_tensor.size())\n",
    "print(label_tensor.size())"
   ]
  },
  {
   "cell_type": "code",
   "execution_count": 58,
   "metadata": {},
   "outputs": [],
   "source": [
    "# Neural net\n",
    "class DenseNet(torch.nn.Module):\n",
    "    def __init__(self, n_inputs, n_layers: int, width: int):\n",
    "        super(DenseNet, self).__init__()\n",
    "        self.input_layer = torch.nn.Linear(n_inputs, width)\n",
    "        self.linear_layers = torch.nn.ModuleList([torch.nn.Linear(width, width) for _ in range(n_layers)])\n",
    "        self.output_layer = torch.nn.Linear(width, 1)\n",
    "    \n",
    "    def forward(self, x):\n",
    "        x = torch.nn.SELU()(self.input_layer(x))\n",
    "        for linear_layer in self.linear_layers:\n",
    "            x = torch.nn.SELU()(linear_layer(x))\n",
    "        x = torch.nn.Sigmoid()(self.output_layer(x))\n",
    "        return x"
   ]
  },
  {
   "cell_type": "code",
   "execution_count": null,
   "metadata": {},
   "outputs": [
    {
     "name": "stdout",
     "output_type": "stream",
     "text": [
      "[0 / 500] Loss: 0.72631, acc: 0.38356\n",
      "[50 / 500] Loss: 0.47647, acc: 0.77484\n",
      "[100 / 500] Loss: 0.44612, acc: 0.80923\n",
      "[150 / 500] Loss: 0.43628, acc: 0.81796\n"
     ]
    }
   ],
   "source": [
    "num_epochs = 500\n",
    "batch_size = 32\n",
    "num_layers = 3\n",
    "width = 8\n",
    "learning_rate = 1e-4\n",
    "model = DenseNet(input_tensor.size(-1), num_layers, width)\n",
    "losses, accs = train(model, input_tensor, label_tensor, num_epochs, batch_size, learning_rate)\n",
    "plt.plot(range(len(losses)), losses)\n",
    "plt.xlabel(\"Epoch\")\n",
    "plt.ylabel(\"Loss\")\n",
    "plt.show()\n",
    "plt.plot(range(len(accs)), accs)\n",
    "plt.xlabel(\"Epoch\")\n",
    "plt.ylabel(\"Accuracy\")\n",
    "plt.show()"
   ]
  },
  {
   "cell_type": "code",
   "execution_count": null,
   "metadata": {},
   "outputs": [],
   "source": [
    "\n"
   ]
  }
 ],
 "metadata": {
  "kernelspec": {
   "display_name": "Python 3",
   "language": "python",
   "name": "python3"
  },
  "language_info": {
   "codemirror_mode": {
    "name": "ipython",
    "version": 3
   },
   "file_extension": ".py",
   "mimetype": "text/x-python",
   "name": "python",
   "nbconvert_exporter": "python",
   "pygments_lexer": "ipython3",
   "version": "3.6.8"
  }
 },
 "nbformat": 4,
 "nbformat_minor": 4
}
