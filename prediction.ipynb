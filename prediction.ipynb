{
 "cells": [
  {
   "cell_type": "code",
   "execution_count": 33,
   "metadata": {},
   "outputs": [],
   "source": [
    "import pandas as pd\n",
    "import seaborn as sns\n",
    "import matplotlib.pyplot as plt\n",
    "import numpy as np\n",
    "import collections\n",
    "%matplotlib inline\n",
    "\n",
    "from sklearn.metrics import accuracy_score\n",
    "from sklearn.preprocessing import MinMaxScaler\n",
    "from sklearn.linear_model import LogisticRegression\n",
    "\n",
    "from data_cleaning import clean_data"
   ]
  },
  {
   "cell_type": "code",
   "execution_count": 36,
   "metadata": {},
   "outputs": [],
   "source": [
    "train_data = pd.read_csv(\"data/train.csv\")\n",
    "test_data = pd.read_csv(\"data/test.csv\")\n",
    "\n",
    "train_data = clean_data(train_data)\n",
    "test_data = clean_data(test_data)\n",
    "\n",
    "x_train = train_data.drop(\"Survived\", axis=1)\n",
    "y_train = train_data[\"Survived\"]"
   ]
  },
  {
   "cell_type": "code",
   "execution_count": 38,
   "metadata": {},
   "outputs": [
    {
     "name": "stdout",
     "output_type": "stream",
     "text": [
      "Prior prob. of survival: 0.38\n",
      "Accuracy: 0.55\n"
     ]
    }
   ],
   "source": [
    "# Baseline: Random using prior\n",
    "survival_prior = train_data[\"Survived\"].mean()\n",
    "print(\"Prior prob. of survival: {:.2f}\".format(survival_prior))\n",
    "predictions = np.random.choice([0,1], len(train_data), p=[1-survival_prior, survival_prior])\n",
    "print(\"Accuracy: {:.2f}\".format(accuracy_score(y_train, predictions)))"
   ]
  },
  {
   "cell_type": "code",
   "execution_count": 4,
   "metadata": {},
   "outputs": [
    {
     "name": "stdout",
     "output_type": "stream",
     "text": [
      "Accuracy: 0.80\n"
     ]
    }
   ],
   "source": [
    "# Logistic regression\n",
    "scaler = MinMaxScaler()\n",
    "x_scaled = scaler.fit_transform(x_train)\n",
    "test_scaled = scaler.transform(test_data)\n",
    "\n",
    "logistic_regression = LogisticRegression()\n",
    "logistic_regression.fit(x_scaled, y_train)\n",
    "\n",
    "predictions = logistic_regression.predict(x_scaled)\n",
    "print(\"Accuracy: {:.2f}\".format(accuracy_score(y_train, predictions)))"
   ]
  },
  {
   "cell_type": "code",
   "execution_count": 23,
   "metadata": {},
   "outputs": [
    {
     "data": {
      "image/png": "[encoded data removed]",
      "text/plain": [
       "<Figure size 432x288 with 1 Axes>"
      ]
     },
     "metadata": {
      "needs_background": "light"
     },
     "output_type": "display_data"
    }
   ],
   "source": [
    "# Single-feature regressions\n",
    "accuracies = {}\n",
    "for independent_variable in x_train.columns:\n",
    "    x_train_small = train_data[[independent_variable]]\n",
    "    scaler = MinMaxScaler()\n",
    "    x_scaled_small = scaler.fit_transform(x_train_small)\n",
    "    logistic_regression = LogisticRegression()\n",
    "    logistic_regression.fit(x_scaled_small, y_train)\n",
    "    predictions = logistic_regression.predict(x_scaled_small)\n",
    "    acc = accuracy_score(y_train, predictions)\n",
    "    accuracies[independent_variable] = acc\n",
    "accuracies_ordered = collections.OrderedDict({k: v for k, v in sorted(accuracies.items(), key=lambda item: item[1], reverse=True)})\n",
    "acc_bars = sns.barplot(list(accuracies_ordered.keys()), list(accuracies_ordered.values()))\n",
    "for item in acc_bars.get_xticklabels():\n",
    "    item.set_rotation(\"vertical\")"
   ]
  },
  {
   "cell_type": "code",
   "execution_count": 61,
   "metadata": {},
   "outputs": [
    {
     "name": "stdout",
     "output_type": "stream",
     "text": [
      "Accuracy: 0.66\n"
     ]
    }
   ],
   "source": [
    "# Bayesian inference on sex\n",
    "\n",
    "posteriors = {}\n",
    "for sex in range(2):\n",
    "    # likelihood: Probability of sex given survived\n",
    "    joint_probability = len(train_data[(train_data[\"Survived\"] == 1) & (train_data[\"Sex\"] == sex)]) / len(train_data)\n",
    "    likelihood = joint_probability / survival_prior\n",
    "\n",
    "    # evidence: Number of sex / number of passengers\n",
    "    evidence = len(train_data[train_data[\"Sex\"] == sex]) / len(train_data)\n",
    "    posterior = (likelihood * survival_prior) / evidence\n",
    "    posteriors[sex] = posterior\n",
    "def draw_survived(x):\n",
    "    return np.random.choice([0,1], p=[1-posteriors[x], posteriors[x]])\n",
    "predictions = x_train[\"Sex\"].apply(draw_survived)\n",
    "print(\"Accuracy: {:.2f}\".format(accuracy_score(y_train, predictions)))"
   ]
  },
  {
   "cell_type": "code",
   "execution_count": null,
   "metadata": {},
   "outputs": [],
   "source": []
  }
 ],
 "metadata": {
  "kernelspec": {
   "display_name": "Python 3",
   "language": "python",
   "name": "python3"
  },
  "language_info": {
   "codemirror_mode": {
    "name": "ipython",
    "version": 3
   },
   "file_extension": ".py",
   "mimetype": "text/x-python",
   "name": "python",
   "nbconvert_exporter": "python",
   "pygments_lexer": "ipython3",
   "version": "3.6.9"
  }
 },
 "nbformat": 4,
 "nbformat_minor": 4
}
